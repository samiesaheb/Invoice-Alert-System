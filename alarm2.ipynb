{
 "cells": [
  {
   "cell_type": "code",
   "execution_count": null,
   "id": "a9eb1788",
   "metadata": {},
   "outputs": [],
   "source": [
    "import pandas as pd\n",
    "import openpyxl\n",
    "df = pd.read_excel('pi.xlsx')\n",
    "df.rename(columns = {'Unnamed: 2':'key', 'Unnamed: 4':'value'}, inplace = True)\n",
    "date_no = df.loc[df['key'] == 'DATE'].iloc[0]['value']\n",
    "PI_no = df.loc[df['key'] == 'PROFORMA INVOICE NO.'].iloc[0]['value']\n",
    "\n",
    "import smtplib\n",
    "import ssl\n",
    "import json\n",
    "from datetime import datetime, timedelta\n",
    "\n",
    "def send_email(sender_email, app_password, receiver_email, subject, body):\n",
    "    port = 465  # For SSL\n",
    "    context = ssl.create_default_context()\n",
    "\n",
    "    with smtplib.SMTP_SSL(\"smtp.gmail.com\", port, context=context) as server:\n",
    "        server.login(sender_email, app_password)\n",
    "        message = f\"Subject: {subject}\\n\\n{body}\"\n",
    "        server.sendmail(sender_email, receiver_email, message)\n",
    "\n",
    "def check_invoice_received(invoice_date):\n",
    "    today = datetime.today()\n",
    "    if today > (invoice_date + timedelta(days=30)):\n",
    "        return False\n",
    "    return True\n",
    "\n",
    "def main():\n",
    "    # Load configuration from file\n",
    "    with open(\"config.json\") as f:\n",
    "        config = json.load(f)\n",
    "\n",
    "    # Replace with the actual extracted values from the table\n",
    "    date = date_no\n",
    "    pi_number = PI_no\n",
    "\n",
    "    sender_email = config[\"sender_email\"]\n",
    "    app_password = config[\"app_password\"]\n",
    "    receiver_email = config[\"receiver_email\"]\n",
    "    subject = \"Invoice Alert PI {}\".format(pi_number)\n",
    "\n",
    "    invoice_date = datetime.strptime(date, \"%d/%m/%Y\")\n",
    "    invoice_received = check_invoice_received(invoice_date)\n",
    "\n",
    "    if not invoice_received:\n",
    "        body = f\"The Proforma Invoice {pi_number} has not been received within 30 days.\"\n",
    "        send_email(sender_email, app_password, receiver_email, subject, body)\n",
    "\n",
    "if __name__ == \"__main__\":\n",
    "    main()"
   ]
  }
 ],
 "metadata": {
  "kernelspec": {
   "display_name": "Python 3 (ipykernel)",
   "language": "python",
   "name": "python3"
  },
  "language_info": {
   "codemirror_mode": {
    "name": "ipython",
    "version": 3
   },
   "file_extension": ".py",
   "mimetype": "text/x-python",
   "name": "python",
   "nbconvert_exporter": "python",
   "pygments_lexer": "ipython3",
   "version": "3.10.9"
  }
 },
 "nbformat": 4,
 "nbformat_minor": 5
}
